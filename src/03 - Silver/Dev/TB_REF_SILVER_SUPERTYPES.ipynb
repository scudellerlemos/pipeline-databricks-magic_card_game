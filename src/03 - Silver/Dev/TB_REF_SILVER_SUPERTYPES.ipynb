{
 "cells": [
  {
   "cell_type": "code",
   "execution_count": 0,
   "metadata": {
    "application/vnd.databricks.v1+cell": {
     "cellMetadata": {
      "byteLimit": 2048000,
      "rowLimit": 10000
     },
     "inputWidgets": {},
     "nuid": "e908775a-83b1-4859-bf38-44fe4c2917f4",
     "showTitle": true,
     "tableResultSettingsMap": {},
     "title": "Import e Segredos"
    }
   },
   "outputs": [],
   "source": [
    "# =============================================================================\n",
    "# CAMADA SILVER - SUPERTYPES - MAGIC: THE GATHERING\n",
    "# =============================================================================\n",
    "\"\"\"\n",
    "Script Python para processamento da tabela TB_REF_SILVER_SUPERTYPES\n",
    "Transformação e limpeza de dados da Bronze para Silver\n",
    "\n",
    "USO DE SILVER_UTILS.PY:\n",
    "- Centralização de funções comuns\n",
    "- Padronização de processamento\n",
    "- Redução de código duplicado\n",
    "\"\"\"\n",
    "\n",
    "# =============================================================================\n",
    "# BIBLIOTECAS UTILIZADAS\n",
    "# =============================================================================\n",
    "import logging\n",
    "from datetime import datetime\n",
    "from pyspark.sql.functions import *\n",
    "from pyspark.sql.types import *\n",
    "\n",
    "# =============================================================================\n",
    "# CARREGAMENTO DO MÓDULO UTILITÁRIO\n",
    "# =============================================================================\n",
    "# Importar funções do silver_utils usando %run (Databricks)\n",
    "%run ./silver_utils\n",
    "\n",
    "# =============================================================================\n",
    "# CONFIGURAÇÃO INICIAL\n",
    "# =============================================================================\n",
    "def setup_logging():\n",
    "    \"\"\"Configura logging para o script\"\"\"\n",
    "    logging.basicConfig(\n",
    "        level=logging.INFO,\n",
    "        format='%(asctime)s - %(levelname)s - %(message)s'\n",
    "    )\n",
    "    return logging.getLogger(__name__)\n",
    "\n",
    "def get_secret(secret_name, default_value=None):\n",
    "    try:\n",
    "        return dbutils.secrets.get(scope=\"mtg-pipeline\", key=secret_name)\n",
    "    except:\n",
    "        if default_value is not None:\n",
    "            print(f\"Segredo '{secret_name}' não encontrado, usando valor padrão\")\n",
    "            return default_value\n",
    "        else:\n",
    "            print(f\"Segredo obrigatório '{secret_name}' não encontrado\")\n",
    "            raise Exception(f\"Segredo '{secret_name}' não configurado\")\n",
    "\n",
    "# =============================================================================\n",
    "# CONFIGURAÇÃO\n",
    "# =============================================================================\n",
    "# Configuração manual \n",
    "config = create_manual_config(\"magic_the_gathering\", get_secret(\"s3_bucket\"))\n",
    "\n",
    "# Setup Unity Catalog\n",
    "setup_unity_catalog(config['catalog_name'], config['schema_silver'])\n",
    "\n"
   ]
  },
  {
   "cell_type": "code",
   "execution_count": 0,
   "metadata": {
    "application/vnd.databricks.v1+cell": {
     "cellMetadata": {
      "byteLimit": 2048000,
      "rowLimit": 10000
     },
     "inputWidgets": {},
     "nuid": "58e8046f-17c7-46d7-b92e-7d7258c1ea48",
     "showTitle": true,
     "tableResultSettingsMap": {},
     "title": "Configurações"
    }
   },
   "outputs": [],
   "source": [
    "# =============================================================================\n",
    "# PROCESSAMENTO USANDO SILVER_UTILS\n",
    "# =============================================================================\n",
    "# Criar processor\n",
    "processor = SilverTableProcessor(\"TB_REF_SILVER_SUPERTYPES\", config)\n",
    "\n",
    "# Processar tabela de referência completa\n",
    "df_silver = processor.process_reference_table(\n",
    "    bronze_table_name=\"TB_BRONZE_SUPERTYPES\",\n",
    "    name_column=\"NME_SUPERTYPE\",\n",
    "    source_column=\"NME_SOURCE\"\n",
    ")\n",
    "\n",
    "# =============================================================================\n",
    "# VALIDAÇÃO E LOGS\n",
    "# =============================================================================\n",
    "if df_silver:\n",
    "    print(f\"Processamento concluído com sucesso!\")\n",
    "    print(f\"Registros processados: {df_silver.count()}\")\n",
    "    print(f\"Colunas finais: {df_silver.columns}\")\n",
    "else:\n",
    "    print(\"Falha no processamento - DataFrame vazio\") "
   ]
  }
 ],
 "metadata": {
  "application/vnd.databricks.v1+notebook": {
   "computePreferences": null,
   "dashboards": [],
   "environmentMetadata": {
    "base_environment": "",
    "environment_version": "2"
   },
   "inputWidgetPreferences": null,
   "language": "python",
   "notebookMetadata": {
    "pythonIndentUnit": 4
   },
   "notebookName": "TB_REF_SILVER_SUPERTYPES",
   "widgets": {}
  },
  "language_info": {
   "name": "python"
  }
 },
 "nbformat": 4,
 "nbformat_minor": 0
}
