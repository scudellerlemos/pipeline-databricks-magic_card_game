{
 "cells": [
  {
   "cell_type": "code",
   "execution_count": 0,
   "metadata": {
    "application/vnd.databricks.v1+cell": {
     "cellMetadata": {
      "byteLimit": 2048000,
      "rowLimit": 10000
     },
     "inputWidgets": {},
     "nuid": "98b5bed5-69be-4d51-8299-afabece7b447",
     "showTitle": false,
     "tableResultSettingsMap": {},
     "title": ""
    }
   },
   "outputs": [],
   "source": [
    "# Script para atualizar comentários das colunas da tabela TB_BRONZE_CARDS no Unity Catalog\n",
    "\n",
    "# Parâmetros\n",
    "catalog_name = \"magic_the_gathering\"\n",
    "schema_name = \"bronze\"\n",
    "table_name = \"tb_bronze_cards\"\n",
    "\n",
    "col_comments = {\n",
    "    \"ID_CARD\": \"Identificador único da carta (ID da API MTG)\",\n",
    "    \"NME_CARD\": \"Nome da carta \",\n",
    "    \"NME_ARTIST\": \"Nome do artista da ilustração\",\n",
    "    \"NME_CARD_TYPE\": \"Tipo principal da carta (ex: Creature, Instant)\",\n",
    "    \"NME_RARITY\": \"Raridade da carta (Common, Uncommon, Rare, Mythic)\",\n",
    "    \"COD_SET\": \"Código do set/edição (ex: M21, NEO)\",\n",
    "    \"NME_SET\": \"Nome do set/edição\",\n",
    "    \"DESC_MANA_COST\": \"Custo de mana (string original da carta, ex: {1}{W}{U})\",\n",
    "    \"MANA_COST\": \"Custo de mana convertido (CMC)\",\n",
    "    \"COD_COLORS\": \"Códigos das cores da carta\",\n",
    "    \"COD_COLOR_IDENTITY\": \"Identidade de cor da carta \",\n",
    "    \"DESC_TYPES\": \"Tipos adicionais da carta (string)\",\n",
    "    \"DESC_SUBTYPES\": \"Subtipos da carta\",\n",
    "    \"NME_POWER\": \"Poder da criatura\",\n",
    "    \"NME_TOUGHNESS\": \"Resistência da criatura \",\n",
    "    \"COD_NUMBER\": \"Número da carta na tabela TB_BRONZE_SETS\",\n",
    "    \"NME_LAYOUT\": \"Layout da carta (ex: normal, split, transform)\",\n",
    "    \"ID_MULTIVERSE\": \"ID Multiverse (identificador alternativo da carta)\",\n",
    "    \"URL_IMAGE\": \"URL da imagem oficial da carta\",\n",
    "    \"DESC_VARIATIONS\": \"Variações da carta (lista de IDs de variações)\",\n",
    "    \"DESC_CARD\": \"Texto da carta e efeito (efeito, regras, flavor text)\",\n",
    "    \"DT_INGESTION\": \"Data/hora de ingestão dos dados na Bronze\",\n",
    "    \"NME_SOURCE\": \"Fonte dos dados (ex: MTG API)\",\n",
    "    \"NME_ENDPOINT\": \"Endpoint de origem dos dados (ex: /cards)\",\n",
    "    \"RELEASE_YEAR\": \"Ano de lançamento do set (particionamento)\",\n",
    "    \"RELEASE_MONTH\": \"Mês de lançamento do set (particionamento)\",\n",
    "}\n",
    "\n"
   ]
  },
  {
   "cell_type": "code",
   "execution_count": 0,
   "metadata": {
    "application/vnd.databricks.v1+cell": {
     "cellMetadata": {
      "byteLimit": 2048000,
      "rowLimit": 10000
     },
     "inputWidgets": {},
     "nuid": "1e6ac2fe-ef00-4fc5-8738-85cc84eb6018",
     "showTitle": false,
     "tableResultSettingsMap": {},
     "title": ""
    }
   },
   "outputs": [],
   "source": [
    "full_table_name = f\"{catalog_name}.{schema_name}.{table_name}\"\n",
    "\n",
    "for col, comment in col_comments.items():\n",
    "    sql = f\"ALTER TABLE {full_table_name} ALTER COLUMN {col} COMMENT '{comment}'\"\n",
    "    print(f\"Executando: {sql}\")\n",
    "    spark.sql(sql)\n",
    "\n",
    "print(\"Comentários das colunas atualizados com sucesso!\") "
   ]
  }
 ],
 "metadata": {
  "application/vnd.databricks.v1+notebook": {
   "computePreferences": null,
   "dashboards": [],
   "environmentMetadata": {
    "base_environment": "",
    "environment_version": "2"
   },
   "inputWidgetPreferences": null,
   "language": "python",
   "notebookMetadata": {
    "pythonIndentUnit": 4
   },
   "notebookName": "CATALOG SCHEMA_TABELA",
   "widgets": {}
  },
  "language_info": {
   "name": "python"
  }
 },
 "nbformat": 4,
 "nbformat_minor": 0
}
