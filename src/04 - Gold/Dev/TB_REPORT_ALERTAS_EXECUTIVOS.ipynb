{
 "cells": [
  {
   "cell_type": "code",
   "execution_count": 0,
   "metadata": {
    "application/vnd.databricks.v1+cell": {
     "cellMetadata": {
      "byteLimit": 2048000,
      "rowLimit": 10000
     },
     "inputWidgets": {},
     "nuid": "d4531337-6724-4286-96f5-8bc387671566",
     "showTitle": true,
     "tableResultSettingsMap": {},
     "title": "Carregamento e configs"
    }
   },
   "outputs": [],
   "source": [
    "# ============================================================================\n",
    "# Camada Gold - Report Alertas Executivos - Magic: The Gathering\n",
    "# Pipeline 100% PySpark DataFrame API\n",
    "# ============================================================================\n",
    "\n",
    "# ============================================================================\n",
    "# BIBLIOTECAS UTILIZADAS\n",
    "# ============================================================================\n",
    "import logging\n",
    "from datetime import datetime\n",
    "from pyspark.sql import SparkSession, Window\n",
    "from pyspark.sql.functions import *\n",
    "from pyspark.sql.types import *\n",
    "\n",
    "# ============================================================================\n",
    "# IMPORTAÇÃO DO MÓDULO UTILITÁRIO\n",
    "# ============================================================================\n",
    "%run ./gold_utils\n",
    "\n",
    "# ============================================================================\n",
    "# CONFIGURAÇÃO COM MÓDULO UTILITÁRIO\n",
    "# ============================================================================\n",
    "TABLE_NAME = \"TB_REPORT_ALERTAS_EXECUTIVOS\"\n",
    "\n",
    "# Inicializar processador com configuração manual \n",
    "def get_secret(secret_name, default_value=None):\n",
    "    try:\n",
    "        return dbutils.secrets.get(scope=\"mtg-pipeline\", key=secret_name)\n",
    "    except:\n",
    "        if default_value is not None:\n",
    "            print(f\"Segredo '{secret_name}' não encontrado, usando valor padrão\")\n",
    "            return default_value\n",
    "        else:\n",
    "            print(f\"Segredo obrigatório '{secret_name}' não encontrado\")\n",
    "            raise Exception(f\"Segredo '{secret_name}' não configurado\")\n",
    "\n",
    "\n",
    "config = create_manual_config(\n",
    "    catalog_name=\"magic_the_gathering\",  \n",
    "    s3_bucket= get_secret(\"s3_bucket\"),  \n",
    "    s3_gold_prefix=\"magic_the_gathering/gold\"\n",
    ")\n",
    "processor = GoldTableProcessor(TABLE_NAME, config)\n",
    "spark = processor.spark\n"
   ]
  },
  {
   "cell_type": "code",
   "execution_count": 0,
   "metadata": {
    "application/vnd.databricks.v1+cell": {
     "cellMetadata": {},
     "inputWidgets": {},
     "nuid": "ed5670e5-c516-4a95-94e7-a2593d28b192",
     "showTitle": true,
     "tableResultSettingsMap": {},
     "title": "Load table e joins"
    }
   },
   "outputs": [],
   "source": [
    "# ============================================================================\n",
    "# CARREGAMENTO DE DADOS SILVER COM MÓDULO\n",
    "# ============================================================================\n",
    "dfs = processor.load_silver_data(['cards', 'prices'])\n",
    "df_cards = dfs['cards']\n",
    "df_prices = dfs['prices']\n",
    "\n",
    "# ============================================================================\n",
    "# JOIN PRINCIPAL E LIMPEZA DE DADOS\n",
    "# ============================================================================\n",
    "df_base = df_cards.join(df_prices, [\"NME_CARD\", \"COD_SET\"], \"inner\")\n"
   ]
  },
  {
   "cell_type": "code",
   "execution_count": 0,
   "metadata": {
    "application/vnd.databricks.v1+cell": {
     "cellMetadata": {},
     "inputWidgets": {},
     "nuid": "55fd71d1-3a12-4dd8-9860-e38abfbc3a89",
     "showTitle": true,
     "tableResultSettingsMap": {},
     "title": "Aplicação de Regras"
    }
   },
   "outputs": [],
   "source": [
    "# ============================================================================\n",
    "# ANÁLISE DE VARIAÇÕES PARA ALERTAS\n",
    "# ============================================================================\n",
    "# Agregação diária por carta\n",
    "df_val = (\n",
    "    df_base.groupBy(col(\"prices.DT_INGESTION\").alias(\"DT_INGESTION\"), \"NME_CARD\")\n",
    "      .agg(sum(\"VLR_USD\").alias(\"VALOR_ATUAL\"))\n",
    ")\n",
    "\n",
    "# Calcular variação com valor anterior\n",
    "window_card = Window.partitionBy(\"NME_CARD\").orderBy(\"DT_INGESTION\")\n",
    "df_val = df_val.withColumn(\"VALOR_ANTERIOR\", lag(\"VALOR_ATUAL\").over(window_card)) \\\n",
    "               .withColumn(\"VARIACAO_PERC_VALOR\", \n",
    "                          when(col(\"VALOR_ANTERIOR\").isNotNull() & (col(\"VALOR_ANTERIOR\") != 0),\n",
    "                               (col(\"VALOR_ATUAL\") - col(\"VALOR_ANTERIOR\")) / col(\"VALOR_ANTERIOR\"))\n",
    "                          .otherwise(lit(None)))\n",
    "\n",
    "# ============================================================================\n",
    "# CLASSIFICAÇÃO DO TIPO DE VARIAÇÃO\n",
    "# ============================================================================\n",
    "df_val = df_val.withColumn(\n",
    "    \"TIPO_VARIACAO\",\n",
    "    when(col(\"VARIACAO_PERC_VALOR\") > 0, \"Valorização\")\n",
    "    .when(col(\"VARIACAO_PERC_VALOR\") < 0, \"Desvalorização\")\n",
    "    .otherwise(\"Estável\")\n",
    ")\n",
    "\n",
    "# ============================================================================\n",
    "# GERAÇÃO DE ALERTAS CRÍTICOS\n",
    "# ============================================================================\n",
    "\n",
    "# Alerta Executivo: Quedas Abruptas (>20%)\n",
    "df_alertas = df_val.filter(col(\"VARIACAO_PERC_VALOR\") < -0.2) \\\n",
    "    .withColumn(\"TIPO_ALERTA\", lit(\"Queda Abrupta\")) \\\n",
    "    .withColumn(\"SEVERIDADE\", lit(\"Crítico\")) \\\n",
    "    .withColumn(\"DESCRICAO\", lit(\"Queda superior a 20% no valor da carta\")) \\\n",
    "    .withColumn(\"DATA_REF\", to_date(col(\"DT_INGESTION\")))\n",
    "\n",
    "# Alertas Adicionais: Valorizações Extremas (>50%)\n",
    "df_alertas_alta = df_val.filter(col(\"VARIACAO_PERC_VALOR\") > 0.5) \\\n",
    "    .withColumn(\"TIPO_ALERTA\", lit(\"Valorização Extrema\")) \\\n",
    "    .withColumn(\"SEVERIDADE\", lit(\"Atenção\")) \\\n",
    "    .withColumn(\"DESCRICAO\", lit(\"Valorização superior a 50% no valor da carta\")) \\\n",
    "    .withColumn(\"DATA_REF\", to_date(col(\"DT_INGESTION\")))\n",
    "\n"
   ]
  },
  {
   "cell_type": "code",
   "execution_count": 0,
   "metadata": {
    "application/vnd.databricks.v1+cell": {
     "cellMetadata": {},
     "inputWidgets": {},
     "nuid": "7978fa63-2e0e-4283-91ab-414d53edc439",
     "showTitle": true,
     "tableResultSettingsMap": {},
     "title": "Etapa de consolidação e gravar tabela"
    }
   },
   "outputs": [],
   "source": [
    "# ============================================================================\n",
    "# CONSOLIDAÇÃO DOS ALERTAS\n",
    "# ============================================================================\n",
    "df_alertas_consolidados = df_alertas.union(df_alertas_alta)\n",
    "\n",
    "# Adicionar métricas de impacto\n",
    "df_alertas_consolidados = df_alertas_consolidados.withColumn(\"VALOR_ABSOLUTO_VARIACAO\",\n",
    "                                                           abs(col(\"VARIACAO_PERC_VALOR\"))) \\\n",
    "                                                 .withColumn(\"IMPACTO_FINANCEIRO\",\n",
    "                                                           abs(col(\"VALOR_ATUAL\") - col(\"VALOR_ANTERIOR\")))\n",
    "\n",
    "# Ranking de prioridade por data\n",
    "window_prioridade = Window.partitionBy(\"DATA_REF\").orderBy(abs(col(\"VARIACAO_PERC_VALOR\")).desc())\n",
    "df_alertas_consolidados = df_alertas_consolidados.withColumn(\"RANK_PRIORIDADE\", \n",
    "                                                           row_number().over(window_prioridade))\n",
    "\n",
    "# ============================================================================\n",
    "# ESCRITA DA TABELA COM MÓDULO\n",
    "# ============================================================================\n",
    "processor.save_gold_table(df_alertas_consolidados, partition_cols=[\"DATA_REF\"])\n",
    "\n",
    "# ============================================================================\n",
    "# FINALIZAÇÃO\n",
    "# ============================================================================\n",
    "print(\"TB_REPORT_ALERTAS_EXECUTIVOS modularizada criada com sucesso!\")"
   ]
  }
 ],
 "metadata": {
  "application/vnd.databricks.v1+notebook": {
   "computePreferences": null,
   "dashboards": [],
   "environmentMetadata": {
    "base_environment": "",
    "environment_version": "2"
   },
   "inputWidgetPreferences": null,
   "language": "python",
   "notebookMetadata": {
    "pythonIndentUnit": 4
   },
   "notebookName": "TB_REPORT_ALERTAS_EXECUTIVOS",
   "widgets": {}
  },
  "language_info": {
   "name": "python"
  }
 },
 "nbformat": 4,
 "nbformat_minor": 0
}
