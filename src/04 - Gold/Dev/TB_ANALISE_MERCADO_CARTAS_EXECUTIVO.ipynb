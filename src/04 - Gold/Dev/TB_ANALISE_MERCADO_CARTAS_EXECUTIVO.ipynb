{
 "cells": [
  {
   "cell_type": "code",
   "execution_count": 0,
   "metadata": {
    "application/vnd.databricks.v1+cell": {
     "cellMetadata": {
      "byteLimit": 2048000,
      "rowLimit": 10000
     },
     "inputWidgets": {},
     "nuid": "d0a44498-e73a-4a34-b0ea-ba56690e2c3e",
     "showTitle": true,
     "tableResultSettingsMap": {},
     "title": "Carregamento e Configs"
    }
   },
   "outputs": [],
   "source": [
    "# ============================================================================\n",
    "# Camada Gold - Análise Mercado Cartas Executivo - Magic: The Gathering\n",
    "# Pipeline 100% PySpark DataFrame API  \n",
    "# ============================================================================\n",
    "\n",
    "# ============================================================================\n",
    "# BIBLIOTECAS UTILIZADAS\n",
    "# ============================================================================\n",
    "import logging\n",
    "from datetime import datetime\n",
    "from pyspark.sql import SparkSession, Window\n",
    "from pyspark.sql.functions import *\n",
    "from pyspark.sql.types import *\n",
    "\n",
    "# ============================================================================\n",
    "# IMPORTAÇÃO DO MÓDULO UTILITÁRIO\n",
    "# ============================================================================\n",
    "%run ./gold_utils\n",
    "\n",
    "# ============================================================================\n",
    "# CONFIGURAÇÃO COM MÓDULO UTILITÁRIO\n",
    "# ============================================================================\n",
    "TABLE_NAME = \"TB_ANALISE_MERCADO_CARTAS_EXECUTIVO\"\n",
    "\n",
    "# Inicializar processador com configuração manual \n",
    "def get_secret(secret_name, default_value=None):\n",
    "    try:\n",
    "        return dbutils.secrets.get(scope=\"mtg-pipeline\", key=secret_name)\n",
    "    except:\n",
    "        if default_value is not None:\n",
    "            print(f\"Segredo '{secret_name}' não encontrado, usando valor padrão\")\n",
    "            return default_value\n",
    "        else:\n",
    "            print(f\"Segredo obrigatório '{secret_name}' não encontrado\")\n",
    "            raise Exception(f\"Segredo '{secret_name}' não configurado\")\n",
    "\n",
    "config = create_manual_config(\n",
    "    catalog_name=\"magic_the_gathering\", \n",
    "    s3_bucket=get_secret(\"s3_bucket\"),  \n",
    "    s3_gold_prefix=\"magic_the_gathering/gold\"\n",
    ")\n",
    "processor = GoldTableProcessor(TABLE_NAME, config)\n",
    "spark = processor.spark\n",
    "\n"
   ]
  },
  {
   "cell_type": "code",
   "execution_count": 0,
   "metadata": {
    "application/vnd.databricks.v1+cell": {
     "cellMetadata": {
      "byteLimit": 2048000,
      "rowLimit": 10000
     },
     "inputWidgets": {},
     "nuid": "18727fa0-598a-41fb-8e76-652ee1ec6b61",
     "showTitle": true,
     "tableResultSettingsMap": {},
     "title": "Load Table e Joins"
    }
   },
   "outputs": [],
   "source": [
    "# ============================================================================\n",
    "# CARREGAMENTO DE DADOS SILVER COM MÓDULO\n",
    "# ============================================================================\n",
    "dfs = processor.load_silver_data(['cards', 'prices'])\n",
    "df_cards = dfs['cards']\n",
    "df_prices = dfs['prices']\n",
    "\n",
    "# ============================================================================\n",
    "# JOIN PRINCIPAL E RESOLUÇÃO DE AMBIGUIDADES\n",
    "# ============================================================================\n",
    "df = df_cards.join(df_prices, [\"NME_CARD\", \"COD_SET\"], \"inner\")"
   ]
  },
  {
   "cell_type": "code",
   "execution_count": 0,
   "metadata": {
    "application/vnd.databricks.v1+cell": {
     "cellMetadata": {
      "byteLimit": 2048000,
      "rowLimit": 10000
     },
     "inputWidgets": {},
     "nuid": "9c5c46cd-f0f9-4ce2-a129-5b9553dbdf88",
     "showTitle": true,
     "tableResultSettingsMap": {},
     "title": "Aplicação de Regras"
    }
   },
   "outputs": [],
   "source": [
    "# Usar make_date com RELEASE_YEAR e RELEASE_MONTH para criar DATA_REF de negócio\n",
    "df = df.withColumn(\"DATA_REF\", make_date(col(\"cards.RELEASE_YEAR\"), col(\"cards.RELEASE_MONTH\"), lit(1)))\n",
    "\n",
    "# ============================================================================\n",
    "# AGREGAÇÕES DE MERCADO EXECUTIVO\n",
    "# ============================================================================\n",
    "\n",
    "# 1. Análise por Segmento de Mercado\n",
    "# Incluir NME_CARD no groupBy para permitir JOIN posterior\n",
    "df_gold = (\n",
    "    df.groupBy(\"DATA_REF\", \"NME_SET\", \"NME_CARD_TYPE\", \"cards.NME_RARITY\", \"NME_ARTIST\", \"NME_CARD\")\n",
    "      .agg(\n",
    "          round(sum(\"VLR_USD\").cast(\"float\"), 2).alias(\"VALOR_TOTAL_MERCADO\"),\n",
    "          countDistinct(\"NME_CARD\").cast(\"int\").alias(\"QTD_CARTAS_ATIVAS\"),\n",
    "          round(avg(\"VLR_USD\").cast(\"float\"), 2).alias(\"VALOR_MEDIO_CARTA\"),\n",
    "          round(expr(\"percentile_approx(VLR_USD, 0.5)\").cast(\"float\"), 2).alias(\"TICKET_MEDIANA\")\n",
    "      )\n",
    "      .withColumnRenamed(\"cards.NME_RARITY\", \"NME_RARITY\")  # Rename para remover prefixo\n",
    ")\n",
    "\n",
    "# 2. Market Share por Set\n",
    "window_set = Window.partitionBy(\"DATA_REF\")\n",
    "df_gold = df_gold.withColumn(\n",
    "    \"MARKET_SHARE_SET\",\n",
    "    round((col(\"VALOR_TOTAL_MERCADO\") / sum(\"VALOR_TOTAL_MERCADO\").over(window_set)).cast(\"float\"), 4)\n",
    ")\n",
    "\n",
    "# 3. Análise de Valorização por Carta\n",
    "window_card = Window.partitionBy(\"NME_CARD\").orderBy(\"DATA_REF\")\n",
    "df_val = (\n",
    "    df.groupBy(\"DATA_REF\", \"NME_CARD\")\n",
    "      .agg(round(sum(\"VLR_USD\").cast(\"float\"), 2).alias(\"VALOR_ATUAL\"))\n",
    "      .withColumn(\"VALOR_ANTERIOR\", lag(\"VALOR_ATUAL\").over(window_card))\n",
    "      .withColumn(\"VARIACAO_PERC_VALOR\", \n",
    "                  when(col(\"VALOR_ANTERIOR\").isNotNull() & (col(\"VALOR_ANTERIOR\") != 0),\n",
    "                       round(((col(\"VALOR_ATUAL\") - col(\"VALOR_ANTERIOR\")) / col(\"VALOR_ANTERIOR\")).cast(\"float\"), 4))\n",
    "                  .otherwise(lit(None)))\n",
    ")\n",
    "\n",
    "# 4. Rankings de Performance\n",
    "# Usar partição por DATA_REF para otimizar performance e evitar warning\n",
    "window_risco = Window.partitionBy(\"DATA_REF\").orderBy(col(\"VARIACAO_PERC_VALOR\").desc())\n",
    "df_val = df_val.withColumn(\"RANK_VALORIZACAO\", row_number().over(window_risco).cast(\"int\"))"
   ]
  },
  {
   "cell_type": "code",
   "execution_count": 0,
   "metadata": {
    "application/vnd.databricks.v1+cell": {
     "cellMetadata": {
      "byteLimit": 2048000,
      "rowLimit": 10000
     },
     "inputWidgets": {},
     "nuid": "aacd3840-5304-44c8-8973-520566b56272",
     "showTitle": true,
     "tableResultSettingsMap": {},
     "title": "Consolidação e gravar tabela"
    }
   },
   "outputs": [],
   "source": [
    "# ============================================================================\n",
    "# CONSOLIDAÇÃO FINAL\n",
    "# ============================================================================\n",
    "\n",
    "# Join com dados de valorização\n",
    "# Corrigir JOIN para incluir NME_CARD e evitar multiplicação de linhas\n",
    "df_final = df_gold.join(\n",
    "    df_val.select(\"DATA_REF\", \"NME_CARD\", \"VARIACAO_PERC_VALOR\", \"RANK_VALORIZACAO\"),\n",
    "    [\"DATA_REF\", \"NME_CARD\"], \"left\"\n",
    ")\n",
    "\n",
    "# Adicionar métricas de análise executiva\n",
    "# Categorizar por valor de mercado (mais adequado para análise executiva)\n",
    "df_final = df_final.withColumn(\"CATEGORIA_VALOR_MERCADO\",\n",
    "    when(col(\"VALOR_TOTAL_MERCADO\") > 1000000, \"Alto Valor (>1M)\")\n",
    "    .when(col(\"VALOR_TOTAL_MERCADO\") > 100000, \"Médio Valor (100K-1M)\")\n",
    "    .when(col(\"VALOR_TOTAL_MERCADO\") > 10000, \"Baixo Valor (10K-100K)\")\n",
    "    .otherwise(\"Baixíssimo Valor (<10K)\")\n",
    ")\n",
    "\n",
    "# Categorizar por market share\n",
    "df_final = df_final.withColumn(\"CATEGORIA_MARKET_SHARE\",\n",
    "    when(col(\"MARKET_SHARE_SET\") > 0.1, \"Alto Market Share (>10%)\")\n",
    "    .when(col(\"MARKET_SHARE_SET\") > 0.05, \"Medio Market Share (5-10%)\")\n",
    "    .when(col(\"MARKET_SHARE_SET\") > 0.01, \"Baixo Market Share (1-5%)\")\n",
    "    .otherwise(\"Minimo Market Share (<1%)\")\n",
    ")\n",
    "\n",
    "\n",
    "# ============================================================================\n",
    "# ESCRITA DA TABELA COM MÓDULO\n",
    "# ============================================================================\n",
    "# Partições otimizadas para consultas executivas:\n",
    "# - DATA_REF: Para análises temporais\n",
    "# - NME_SET: Para filtrar por sets específicos\n",
    "# - NME_CARD_TYPE: Para análises por tipo de carta\n",
    "# - NME_RARITY: Para análises por raridade\n",
    "processor.save_gold_table(df_final, partition_cols=[\"DATA_REF\", \"NME_SET\", \"NME_CARD_TYPE\", \"NME_RARITY\"])\n",
    "\n",
    "# ============================================================================\n",
    "# FINALIZAÇÃO\n",
    "# ============================================================================\n",
    "print(\"TB_ANALISE_MERCADO_CARTAS_EXECUTIVO modularizada criada com sucesso!\")"
   ]
  }
 ],
 "metadata": {
  "application/vnd.databricks.v1+notebook": {
   "computePreferences": null,
   "dashboards": [],
   "environmentMetadata": {
    "base_environment": "",
    "environment_version": "2"
   },
   "inputWidgetPreferences": null,
   "language": "python",
   "notebookMetadata": {
    "mostRecentlyExecutedCommandWithImplicitDF": {
     "commandId": 8621656481272024,
     "dataframes": [
      "_sqldf"
     ]
    },
    "pythonIndentUnit": 4
   },
   "notebookName": "TB_ANALISE_MERCADO_CARTAS_EXECUTIVO",
   "widgets": {}
  },
  "language_info": {
   "name": "python"
  }
 },
 "nbformat": 4,
 "nbformat_minor": 0
}
